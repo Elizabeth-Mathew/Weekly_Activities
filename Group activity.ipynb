{
 "cells": [
  {
   "cell_type": "markdown",
   "metadata": {
    "id": "4z_Z-K1tlrS7"
   },
   "source": [
    "## 1. Complete the following code to find the area of an equilateral triangle. Output should be as displayed"
   ]
  },
  {
   "cell_type": "code",
   "execution_count": 1,
   "metadata": {
    "id": "rP2qFD_SlrS_"
   },
   "outputs": [
    {
     "name": "stdout",
     "output_type": "stream",
     "text": [
      "Enter the side of the equilateral triangle: 9\n",
      "the area of equilateral triangle is : 35.07\n"
     ]
    }
   ],
   "source": [
    "import math\n",
    "side = float(input(\"Enter the side of the equilateral triangle: \"))\n",
    "area = ((math.sqrt(3))/4)*pow(side,2)\n",
    "print(\"the area of equilateral triangle is :\",round(area,2))"
   ]
  },
  {
   "cell_type": "markdown",
   "metadata": {
    "id": "TjVKjIfclrTB"
   },
   "source": [
    "## 2. Write a program to count the number of each characters in a string"
   ]
  },
  {
   "cell_type": "code",
   "execution_count": 2,
   "metadata": {
    "id": "JY5seVUQlrTC"
   },
   "outputs": [
    {
     "name": "stdout",
     "output_type": "stream",
     "text": [
      "enter the string: i love my country.\n",
      "i = 1\n",
      "  = 3\n",
      "l = 1\n",
      "o = 2\n",
      "v = 1\n",
      "e = 1\n",
      "m = 1\n",
      "y = 2\n",
      "c = 1\n",
      "u = 1\n",
      "n = 1\n",
      "t = 1\n",
      "r = 1\n",
      ". = 1\n"
     ]
    }
   ],
   "source": [
    "string=input('enter the string: ')\n",
    "l=[]\n",
    "for i in string:\n",
    "    if i not in l:\n",
    "        l.append(i)\n",
    "for x in l:\n",
    "    print(x,'=',string.count(x))"
   ]
  },
  {
   "cell_type": "markdown",
   "metadata": {
    "id": "l3LCULfklrTD"
   },
   "source": [
    "## Write a program to find the area and perimeter of a rectangle using functions"
   ]
  },
  {
   "cell_type": "code",
   "execution_count": 3,
   "metadata": {
    "id": "8haQD8edlrTD"
   },
   "outputs": [
    {
     "name": "stdout",
     "output_type": "stream",
     "text": [
      "Enter length3\n",
      "Enter breadth4\n",
      "Area of the reactangle is  12\n",
      "perimeter of the reactangle is  14\n"
     ]
    }
   ],
   "source": [
    "#function to find area of a reactangle\n",
    "def area(x,y):\n",
    "    area = x*y\n",
    "    return area\n",
    "#function to find perimeter of a rectangle\n",
    "def perimeter(m,n):\n",
    "    peri = 2 *(m+n)\n",
    "    return peri\n",
    "length = int(input(\"Enter length\"))\n",
    "breadth = int(input(\"Enter breadth\"))\n",
    "\n",
    "ar = area(length, breadth)\n",
    "pr = perimeter(length, breadth)\n",
    "\n",
    "print(\"Area of the reactangle is\" + \" \",ar)\n",
    "print(\"perimeter of the reactangle is\" + \" \",pr)"
   ]
  },
  {
   "cell_type": "markdown",
   "metadata": {
    "id": "JHK4ZdsflrTE"
   },
   "source": [
    "## 4. Write a program to print the fibonacci series till a specified number"
   ]
  },
  {
   "cell_type": "code",
   "execution_count": 4,
   "metadata": {
    "id": "LyBEj-4SlrTE"
   },
   "outputs": [
    {
     "name": "stdout",
     "output_type": "stream",
     "text": [
      "Enter the value of 'n': 9\n",
      "Fibonacci Series:  0 1 1 2 3 5 8 13 21 "
     ]
    }
   ],
   "source": [
    "n = int(input(\"Enter the value of 'n': \"))\n",
    "a = 0\n",
    "b = 1\n",
    "sum = 0\n",
    "count = 1\n",
    "print(\"Fibonacci Series: \", end = \" \")\n",
    "while(count <= n):\n",
    "  print(sum, end = \" \")\n",
    "  count += 1\n",
    "  a = b\n",
    "  b = sum\n",
    "  sum = a + b"
   ]
  },
  {
   "cell_type": "markdown",
   "metadata": {
    "id": "u4uBUcQKlrTE"
   },
   "source": [
    "## 5. Complete the following code to find the minimum of 3 number using cinditional statements. Output should be as displayed"
   ]
  },
  {
   "cell_type": "code",
   "execution_count": 5,
   "metadata": {
    "id": "XdZwrZjIlrTF"
   },
   "outputs": [
    {
     "name": "stdout",
     "output_type": "stream",
     "text": [
      "Enter three numbers followed by  : 9 6 4\n",
      "First number : 9\n",
      "Second number : 6\n",
      "Third number : 4\n",
      "4  is smallest\n"
     ]
    }
   ],
   "source": [
    "a,b,c =input(\"Enter three numbers followed by  : \").split()\n",
    "print(\"First number :\",a)\n",
    "print(\"Second number :\",b)\n",
    "print(\"Third number :\",c)\n",
    "if(a==b==c):\n",
    "    print(\"Entered numbers are equal!!!\")\n",
    "elif(a<b and a<c):\n",
    "    print(a,\" is smallest\")\n",
    "elif(b<a and b<c):\n",
    "    print(b,\" is smallest\")\n",
    "else:\n",
    "    print(c,\" is smallest\")"
   ]
  },
  {
   "cell_type": "markdown",
   "metadata": {
    "id": "aR_CnToWlrTG"
   },
   "source": [
    "## 6. Write a program to print star pyramind. The number of rows should be taken as input from the user"
   ]
  },
  {
   "cell_type": "code",
   "execution_count": 6,
   "metadata": {
    "id": "M37A-buplrTG"
   },
   "outputs": [
    {
     "name": "stdout",
     "output_type": "stream",
     "text": [
      "Enter the number of rows5\n",
      "* \n",
      "* * \n",
      "* * * \n",
      "* * * * \n",
      "* * * * * \n"
     ]
    }
   ],
   "source": [
    "n = int(input(\"Enter the number of rows\"))  \n",
    "\n",
    "for i in range(0, n):  \n",
    "    for j in range(0, i + 1):  \n",
    "            print(\"* \", end=\"\")       \n",
    "    print()"
   ]
  },
  {
   "cell_type": "markdown",
   "metadata": {
    "id": "tlY6aFWBlrTH"
   },
   "source": [
    "## 7. Complete the following code to convert hour into seconds. Output should be as displayed"
   ]
  },
  {
   "cell_type": "code",
   "execution_count": 7,
   "metadata": {
    "id": "YOZQFk7FlrTH"
   },
   "outputs": [
    {
     "name": "stdout",
     "output_type": "stream",
     "text": [
      "Time in hours 10\n",
      "10  Hour is equal to 36000  Seconds\n"
     ]
    }
   ],
   "source": [
    "def to_seconds(t):\n",
    "    return t*60*60\n",
    "time_in_hours = int(input(\"Time in hours \"))\n",
    "print(time_in_hours ,\" Hour is equal to\" ,to_seconds(time_in_hours) ,\" Seconds\")"
   ]
  },
  {
   "cell_type": "markdown",
   "metadata": {
    "id": "CnYorNiLlrTI"
   },
   "source": [
    "## 8. Write a program to print multiplication table as below"
   ]
  },
  {
   "cell_type": "code",
   "execution_count": 8,
   "metadata": {
    "id": "dPQqDPuDlrTI"
   },
   "outputs": [
    {
     "name": "stdout",
     "output_type": "stream",
     "text": [
      "enter the number to get multiplication table 8\n",
      "the multiplication table of 8 is as follows:\n",
      "1 * 8 = 8\n",
      "2 * 8 = 16\n",
      "3 * 8 = 24\n",
      "4 * 8 = 32\n",
      "5 * 8 = 40\n",
      "6 * 8 = 48\n",
      "7 * 8 = 56\n",
      "8 * 8 = 64\n",
      "9 * 8 = 72\n",
      "10 * 8 = 80\n"
     ]
    }
   ],
   "source": [
    "n=int(input(\"enter the number to get multiplication table \"))\n",
    "print(\"the multiplication table of\",n,\"is as follows:\")\n",
    "s=0\n",
    "for i in range(1,11):\n",
    "    s=i*n\n",
    "    print(i,\"*\",n,\"=\",s)"
   ]
  },
  {
   "cell_type": "markdown",
   "metadata": {
    "id": "Fiaez8iblrTI"
   },
   "source": [
    "## 9. Write a program to take your 5 favorite food as list and print each as 'I like Biriyani'"
   ]
  },
  {
   "cell_type": "code",
   "execution_count": 9,
   "metadata": {
    "id": "39W1zFX7lrTJ",
    "tags": []
   },
   "outputs": [
    {
     "name": "stdout",
     "output_type": "stream",
     "text": [
      "enter your favourite food item rice\n",
      "enter your favourite food item biriyani\n",
      "enter your favourite food item fried rice\n",
      "enter your favourite food item pizza\n",
      "enter your favourite food item burger\n",
      "\n",
      "\n",
      "I like  rice\n",
      "I like  biriyani\n",
      "I like  fried rice\n",
      "I like  pizza\n",
      "I like  burger\n"
     ]
    }
   ],
   "source": [
    "lst = [ ] \n",
    "for i in range(0, 5): \n",
    "    ele = input(\"enter your favourite food item \" )\n",
    "    lst.append(ele) \n",
    "print(\"\\n\")\n",
    "\n",
    "print(\"I like \",lst[0])\n",
    "print(\"I like \",lst[1])\n",
    "print(\"I like \",lst[2])\n",
    "print(\"I like \",lst[3])\n",
    "print(\"I like \",lst[4])"
   ]
  },
  {
   "cell_type": "markdown",
   "metadata": {
    "id": "3vlcDNNEP7d_"
   },
   "source": [
    "## 10. Find error(s) in the following code(if any) and rewrite code.\n",
    "\n"
   ]
  },
  {
   "cell_type": "code",
   "execution_count": 10,
   "metadata": {
    "id": "coREkcY3P9sG"
   },
   "outputs": [
    {
     "name": "stdout",
     "output_type": "stream",
     "text": [
      "Enter value of x:3\n",
      "x and y are unequal\n",
      "x and y are unequal\n",
      "x and y are unequal\n",
      "x and y are equal\n",
      "x and y are unequal\n",
      "x and y are unequal\n",
      "x and y are unequal\n",
      "x and y are unequal\n",
      "x and y are unequal\n",
      "x and y are unequal\n"
     ]
    }
   ],
   "source": [
    "x= int(input(\"Enter value of x:\"))\n",
    "for y in range (0,10):\n",
    "     if (x==y):\n",
    "            print(\"x and y are equal\")\n",
    "     else:\n",
    "         print( \"x and y are unequal\")"
   ]
  },
  {
   "cell_type": "code",
   "execution_count": null,
   "metadata": {},
   "outputs": [],
   "source": []
  }
 ],
 "metadata": {
  "colab": {
   "collapsed_sections": [],
   "name": "Q&A activity student file.ipynb",
   "provenance": []
  },
  "kernelspec": {
   "display_name": "Python 3",
   "language": "python",
   "name": "python3"
  },
  "language_info": {
   "codemirror_mode": {
    "name": "ipython",
    "version": 3
   },
   "file_extension": ".py",
   "mimetype": "text/x-python",
   "name": "python",
   "nbconvert_exporter": "python",
   "pygments_lexer": "ipython3",
   "version": "3.8.8"
  }
 },
 "nbformat": 4,
 "nbformat_minor": 4
}
